{
 "cells": [
  {
   "cell_type": "markdown",
   "id": "f52f0ff4",
   "metadata": {},
   "source": [
    "# Embedding Visualization with Interactive UI\n",
    "\n",
    "This notebook demonstrates how to visualize neural network embeddings using an interactive UI. You will learn how to load embeddings, apply dimensionality reduction, and explore the results with interactive controls."
   ]
  },
  {
   "cell_type": "code",
   "execution_count": 1,
   "id": "9f42d9f4",
   "metadata": {},
   "outputs": [],
   "source": [
    "# Import Required Libraries\n",
    "from malaria.data import MalariaDataModule\n",
    "from malaria.model import MalariaLitModel\n",
    "from malaria.utils import EmbeddingVisualizerUI"
   ]
  },
  {
   "cell_type": "markdown",
   "id": "9b680740",
   "metadata": {},
   "source": [
    "## Load Embedding Data\n",
    "\n",
    "In this section, we set up the data module and dataloader for extracting embeddings from the model. You can also load precomputed embeddings if available."
   ]
  },
  {
   "cell_type": "code",
   "execution_count": 2,
   "id": "1d2974b6",
   "metadata": {
    "tags": [
     "parameters"
    ]
   },
   "outputs": [],
   "source": [
    "# Set up data module and dataloader\n",
    "DATA_DIR = \"data\"\n",
    "BATCH_SIZE = 128"
   ]
  },
  {
   "cell_type": "code",
   "execution_count": 3,
   "id": "91961d64",
   "metadata": {},
   "outputs": [],
   "source": [
    "data_module = MalariaDataModule(data_dir=DATA_DIR, batch_size=BATCH_SIZE)\n",
    "data_module.setup()\n",
    "train_loader = data_module.train_dataloader()"
   ]
  },
  {
   "cell_type": "markdown",
   "id": "2536ff46",
   "metadata": {},
   "source": [
    "## Dimensionality Reduction for Visualization\n",
    "\n",
    "We will use PCA, t-SNE, or UMAP to reduce the dimensionality of the embeddings for visualization. The interactive UI will allow you to select the method."
   ]
  },
  {
   "cell_type": "markdown",
   "id": "fc3ea185",
   "metadata": {},
   "source": [
    "## Visualize Embeddings with Interactive UI\n",
    "\n",
    "Use the interactive UI below to visualize the embeddings. You can select the dimensionality reduction method, overlay type, and other options."
   ]
  },
  {
   "cell_type": "code",
   "execution_count": 6,
   "id": "635ffa4c",
   "metadata": {
    "tags": [
     "parameters"
    ]
   },
   "outputs": [],
   "source": [
    "# Define model checkpoint and log directory paths\n",
    "MODEL_PATH = \"lightning_logs/malaria_cnn/version_0/checkpoints/last.ckpt\"  # Adjust as needed\n",
    "LOG_DIR = \"lightning_logs/malaria_cnn\"  # Adjust as needed"
   ]
  },
  {
   "cell_type": "code",
   "execution_count": null,
   "id": "02626fe5",
   "metadata": {},
   "outputs": [
    {
     "data": {
      "application/vnd.jupyter.widget-view+json": {
       "model_id": "6939a8ecbe5449beb6dedcbff4f4182c",
       "version_major": 2,
       "version_minor": 0
      },
      "text/plain": [
       "interactive(children=(Text(value='lightning_logs/malaria_cnn/version_0/checkpoints/last.ckpt', description='Ch…"
      ]
     },
     "metadata": {},
     "output_type": "display_data"
    }
   ],
   "source": [
    "# Launch the interactive visualization UI\n",
    "ui = EmbeddingVisualizerUI(\n",
    "    model_class=MalariaLitModel,\n",
    "    train_loader=train_loader,\n",
    "    default_checkpoint=MODEL_PATH,\n",
    "    default_logdir=LOG_DIR,\n",
    ")\n",
    "ui.show()"
   ]
  }
 ],
 "metadata": {
  "kernelspec": {
   "display_name": ".venv (3.10.12)",
   "language": "python",
   "name": "python3"
  },
  "language_info": {
   "codemirror_mode": {
    "name": "ipython",
    "version": 3
   },
   "file_extension": ".py",
   "mimetype": "text/x-python",
   "name": "python",
   "nbconvert_exporter": "python",
   "pygments_lexer": "ipython3",
   "version": "3.10.12"
  }
 },
 "nbformat": 4,
 "nbformat_minor": 5
}
